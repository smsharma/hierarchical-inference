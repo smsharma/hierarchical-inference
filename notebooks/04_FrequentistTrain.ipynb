{
 "cells": [
  {
   "cell_type": "code",
   "execution_count": null,
   "metadata": {},
   "outputs": [],
   "source": [
    "import sys\n",
    "sys.path.append(\"../\")\n",
    "\n",
    "import numpy as np\n",
    "import matplotlib.pyplot as plt\n",
    "import torch\n",
    "import simulators.extended_particle_model_freq as esim\n",
    "import simulators.on_off_sim as oosim\n",
    "from utils.plots_wald import plot\n",
    "from models.deep_set_freq import BinnedModel, generate_for_wald\n",
    "\n",
    "def param_eval(model,X,poi):\n",
    "    '''\n",
    "    parametrized evaluation of a model (by concatenating data and POI)\n",
    "    '''\n",
    "    poi_col = poi*torch.ones(X.shape[0])[:,None]\n",
    "    Xpar = torch.cat([X,poi_col],dim=-1)\n",
    "    p = model(Xpar)\n",
    "    return p\n",
    "\n",
    "def train(simulator,model, start = 0, Nsteps = 30000, bins = None, save_plot = False):\n",
    "    opt = torch.optim.Adam([\n",
    "        {'params': model.onset.parameters(), 'lr': 1e-3},\n",
    "        {'params': model._per_elem.parameters(), 'lr': 1e-4}\n",
    "    ])\n",
    "    model.train()\n",
    "    for i in range(start,start + Nsteps):\n",
    "        model.train()\n",
    "        # generate a random POI to and generate data from it\n",
    "        poi = np.random.uniform(3,7)\n",
    "        XX,yy,poi = generate_for_wald(simulator, poi, N = 100, bins = bins)\n",
    "        y = torch.cat(yy)\n",
    "        p = torch.cat([model(X,poi) for X in XX])\n",
    "        loss = torch.nn.functional.binary_cross_entropy(p,y)\n",
    "        loss.backward()\n",
    "        if i % 250 == 0:\n",
    "            print(i,float(loss))\n",
    "            plot(simulator, model, 6, _hp, on_off_lrt, bins = bins)\n",
    "            if save_plot:\n",
    "                plt.savefig(f'anim{str(i).zfill(10)}.png')\n",
    "            if i % 1000 == 0:\n",
    "                plt.show()\n",
    "            plt.close()\n",
    "        if i % 5 == 0:\n",
    "            opt.step()\n",
    "            opt.zero_grad()\n",
    "    return model.eval()"
   ]
  },
  {
   "cell_type": "code",
   "execution_count": null,
   "metadata": {},
   "outputs": [],
   "source": [
    "_hp = oosim.on_off_hpars(lumi = 1.0, s0 = 10, b0 = 50, tau = 1)\n",
    "simulator = esim.get_reparam_simulator(oosim.on_off_reparam,_hp)\n",
    "on_off_lrt = esim.get_reparam_lrtfunc(oosim.on_off_reparam, _hp)\n",
    "model = BinnedModel(hardscale = 1, n_elem_feats = 10, set_encoder='ele')\n",
    "bins = None\n",
    "trained_model = train(simulator,model, Nsteps=15000, bins = bins)"
   ]
  }
 ],
 "metadata": {
  "kernelspec": {
   "display_name": "Python 3.9.11 64-bit ('3.9.11')",
   "language": "python",
   "name": "python3"
  },
  "language_info": {
   "codemirror_mode": {
    "name": "ipython",
    "version": 3
   },
   "file_extension": ".py",
   "mimetype": "text/x-python",
   "name": "python",
   "nbconvert_exporter": "python",
   "pygments_lexer": "ipython3",
   "version": "3.9.11"
  },
  "vscode": {
   "interpreter": {
    "hash": "b50eae343b18811ae0a4e9b5bbf5d853bbc29bee02ddc0d250e8cecc46fde28c"
   }
  }
 },
 "nbformat": 4,
 "nbformat_minor": 2
}
