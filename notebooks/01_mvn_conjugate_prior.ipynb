{
 "cells": [
  {
   "cell_type": "code",
   "execution_count": 1,
   "id": "c57eeb3f-83e8-439b-8654-fe97a9f72852",
   "metadata": {},
   "outputs": [],
   "source": [
    "# ! pip install --upgrade pytorch-lightning einops"
   ]
  },
  {
   "cell_type": "code",
   "execution_count": 2,
   "id": "cfc7f054-30ae-4986-900f-d7d394871482",
   "metadata": {},
   "outputs": [
    {
     "name": "stdout",
     "output_type": "stream",
     "text": [
      "The autoreload extension is already loaded. To reload it, use:\n",
      "  %reload_ext autoreload\n"
     ]
    }
   ],
   "source": [
    "import torch\n",
    "import torch.nn as nn\n",
    "from torch.nn import functional as F\n",
    "torch.set_float32_matmul_precision('medium')\n",
    "\n",
    "import numpy as np\n",
    "import scipy.stats as sps\n",
    "import matplotlib.pyplot as plt\n",
    "\n",
    "%matplotlib inline\n",
    "%load_ext autoreload\n",
    "%autoreload 2"
   ]
  },
  {
   "cell_type": "code",
   "execution_count": 15,
   "id": "149940aa-33d8-48cd-81fb-f8458b2ac30d",
   "metadata": {},
   "outputs": [],
   "source": [
    "import pytorch_lightning as pl\n",
    "from pytorch_lightning.callbacks import ModelCheckpoint, LearningRateMonitor, EarlyStopping\n",
    "\n",
    "from torch.utils.data import TensorDataset, DataLoader, random_split\n",
    "from einops import rearrange"
   ]
  },
  {
   "cell_type": "code",
   "execution_count": 16,
   "id": "a2a81324-d85e-4d03-8c98-bb1cea88e8d3",
   "metadata": {},
   "outputs": [],
   "source": [
    "import sys\n",
    "sys.path.append(\"../\")\n",
    "\n",
    "from simulators.conjugate import MultivariateNormalConjugatePrior"
   ]
  },
  {
   "cell_type": "code",
   "execution_count": 2,
   "id": "9d6f4ba1-134d-4935-8226-a4fb32e90ba6",
   "metadata": {},
   "outputs": [],
   "source": [
    "from matplotlib import cm\n",
    "cmap = cm.get_cmap('viridis_r')\n",
    "\n",
    "import matplotlib.pylab as pylab\n",
    "import warnings\n",
    "import matplotlib.cbook\n",
    "\n",
    "from plot_params import params\n",
    "\n",
    "warnings.filterwarnings(\"ignore\",category=matplotlib.cbook.mplDeprecation)\n",
    "\n",
    "pylab.rcParams.update(params)\n",
    "cols_default = plt.rcParams['axes.prop_cycle'].by_key()['color']\n",
    "\n",
    "import logging\n",
    "import matplotlib\n",
    "\n",
    "logging.getLogger('matplotlib').setLevel(logging.ERROR)"
   ]
  },
  {
   "attachments": {},
   "cell_type": "markdown",
   "id": "73d67223-244b-4050-8e3c-8215ee0fa0f3",
   "metadata": {},
   "source": [
    "## Make data"
   ]
  },
  {
   "cell_type": "code",
   "execution_count": 174,
   "id": "c1255322-c163-46da-915b-6913188381bb",
   "metadata": {},
   "outputs": [],
   "source": [
    "dim = 3  # Number of dimensions per sample\n",
    "n = 5  # How many samples\n",
    "\n",
    "n_train = 50000\n",
    "seq_length = 200\n",
    "\n",
    "# Prior\n",
    "mu0, Sigma0 = np.zeros(dim), 3. ** 2 * np.diag(np.ones(dim))  \n",
    "\n",
    "mu_list = sps.norm(loc=0., scale=3.).rvs((n_train, dim))\n",
    "Sigma = 2 * np.diag(np.arange(1, dim + 1))"
   ]
  },
  {
   "cell_type": "code",
   "execution_count": 21,
   "id": "958eabb7-779d-4fea-9305-f8ca1ce17356",
   "metadata": {},
   "outputs": [],
   "source": [
    "x = np.array([sps.multivariate_normal(mu, Sigma).rvs((seq_length, n)) for mu in mu_list])\n",
    "x = x.reshape(n_train, seq_length, n, dim)"
   ]
  },
  {
   "cell_type": "code",
   "execution_count": 176,
   "id": "d80be1c6-4ec7-40b0-bb7d-5bf2784081f1",
   "metadata": {},
   "outputs": [],
   "source": [
    "prior = MultivariateNormalConjugatePrior(mu0, Sigma0, Sigma)\n",
    "for x_i in x[0]:\n",
    "    prior.update(x_i)"
   ]
  },
  {
   "cell_type": "code",
   "execution_count": 177,
   "id": "2c156377-a6fc-4c5e-a6e9-b998e12425f6",
   "metadata": {},
   "outputs": [],
   "source": [
    "data = torch.Tensor(rearrange(x, \"n_train seq_length n dim -> n_train seq_length (dim n)\"))\n",
    "\n",
    "targets = torch.Tensor(mu_list)\n",
    "\n",
    "val_fraction = 0.1\n",
    "batch_size = 128\n",
    "n_samples_val = int(val_fraction * len(data))\n",
    "\n",
    "dataset = TensorDataset(data, targets)\n",
    "\n",
    "dataset_train, dataset_val = random_split(dataset, [len(data) - n_samples_val, n_samples_val])\n",
    "train_loader = DataLoader(dataset_train, batch_size=batch_size, num_workers=8, pin_memory=True, shuffle=True)\n",
    "val_loader = DataLoader(dataset_val, batch_size=batch_size, num_workers=8, pin_memory=True, shuffle=False)"
   ]
  },
  {
   "cell_type": "code",
   "execution_count": 24,
   "id": "a4b9ca35",
   "metadata": {},
   "outputs": [
    {
     "data": {
      "text/plain": [
       "torch.Size([20000, 100, 10])"
      ]
     },
     "execution_count": 24,
     "metadata": {},
     "output_type": "execute_result"
    }
   ],
   "source": [
    "data.shape"
   ]
  },
  {
   "attachments": {},
   "cell_type": "markdown",
   "id": "4878c8e3-be73-4e23-8115-41938f85bb7f",
   "metadata": {},
   "source": [
    "## Deep Set"
   ]
  },
  {
   "cell_type": "code",
   "execution_count": 178,
   "id": "358773ec-b163-4060-b756-3e9655524b13",
   "metadata": {},
   "outputs": [],
   "source": [
    "from models.deep_set import DeepSetPL"
   ]
  },
  {
   "cell_type": "code",
   "execution_count": 179,
   "id": "0a886896-9947-4b4f-be31-db49e1530ca9",
   "metadata": {},
   "outputs": [],
   "source": [
    "max_epochs = 50\n",
    "sum_aggregations = True\n",
    "model = DeepSetPL(n_in=int(dim * n), n_out=int(2 * dim), n_embedding=256, max_epochs=max_epochs, seq_length=seq_length, sum_aggregations=sum_aggregations)"
   ]
  },
  {
   "cell_type": "code",
   "execution_count": 180,
   "id": "91ca5273-713c-45cf-a21f-927253053393",
   "metadata": {},
   "outputs": [
    {
     "name": "stderr",
     "output_type": "stream",
     "text": [
      "GPU available: True (cuda), used: True\n",
      "TPU available: False, using: 0 TPU cores\n",
      "IPU available: False, using: 0 IPUs\n",
      "HPU available: False, using: 0 HPUs\n",
      "LOCAL_RANK: 0 - CUDA_VISIBLE_DEVICES: [0]\n",
      "\n",
      "  | Name | Type    | Params\n",
      "---------------------------------\n",
      "0 | net  | DeepSet | 1.5 M \n",
      "---------------------------------\n",
      "1.5 M     Trainable params\n",
      "0         Non-trainable params\n",
      "1.5 M     Total params\n",
      "6.073     Total estimated model params size (MB)\n"
     ]
    },
    {
     "data": {
      "application/vnd.jupyter.widget-view+json": {
       "model_id": "",
       "version_major": 2,
       "version_minor": 0
      },
      "text/plain": [
       "Sanity Checking: 0it [00:00, ?it/s]"
      ]
     },
     "metadata": {},
     "output_type": "display_data"
    },
    {
     "data": {
      "application/vnd.jupyter.widget-view+json": {
       "model_id": "773265e15b3c4416a519e30ba6d1429d",
       "version_major": 2,
       "version_minor": 0
      },
      "text/plain": [
       "Training: 0it [00:00, ?it/s]"
      ]
     },
     "metadata": {},
     "output_type": "display_data"
    },
    {
     "data": {
      "application/vnd.jupyter.widget-view+json": {
       "model_id": "",
       "version_major": 2,
       "version_minor": 0
      },
      "text/plain": [
       "Validation: 0it [00:00, ?it/s]"
      ]
     },
     "metadata": {},
     "output_type": "display_data"
    },
    {
     "data": {
      "application/vnd.jupyter.widget-view+json": {
       "model_id": "",
       "version_major": 2,
       "version_minor": 0
      },
      "text/plain": [
       "Validation: 0it [00:00, ?it/s]"
      ]
     },
     "metadata": {},
     "output_type": "display_data"
    },
    {
     "data": {
      "application/vnd.jupyter.widget-view+json": {
       "model_id": "",
       "version_major": 2,
       "version_minor": 0
      },
      "text/plain": [
       "Validation: 0it [00:00, ?it/s]"
      ]
     },
     "metadata": {},
     "output_type": "display_data"
    },
    {
     "data": {
      "application/vnd.jupyter.widget-view+json": {
       "model_id": "",
       "version_major": 2,
       "version_minor": 0
      },
      "text/plain": [
       "Validation: 0it [00:00, ?it/s]"
      ]
     },
     "metadata": {},
     "output_type": "display_data"
    },
    {
     "data": {
      "application/vnd.jupyter.widget-view+json": {
       "model_id": "",
       "version_major": 2,
       "version_minor": 0
      },
      "text/plain": [
       "Validation: 0it [00:00, ?it/s]"
      ]
     },
     "metadata": {},
     "output_type": "display_data"
    },
    {
     "data": {
      "application/vnd.jupyter.widget-view+json": {
       "model_id": "",
       "version_major": 2,
       "version_minor": 0
      },
      "text/plain": [
       "Validation: 0it [00:00, ?it/s]"
      ]
     },
     "metadata": {},
     "output_type": "display_data"
    },
    {
     "data": {
      "application/vnd.jupyter.widget-view+json": {
       "model_id": "",
       "version_major": 2,
       "version_minor": 0
      },
      "text/plain": [
       "Validation: 0it [00:00, ?it/s]"
      ]
     },
     "metadata": {},
     "output_type": "display_data"
    },
    {
     "data": {
      "application/vnd.jupyter.widget-view+json": {
       "model_id": "",
       "version_major": 2,
       "version_minor": 0
      },
      "text/plain": [
       "Validation: 0it [00:00, ?it/s]"
      ]
     },
     "metadata": {},
     "output_type": "display_data"
    },
    {
     "data": {
      "application/vnd.jupyter.widget-view+json": {
       "model_id": "",
       "version_major": 2,
       "version_minor": 0
      },
      "text/plain": [
       "Validation: 0it [00:00, ?it/s]"
      ]
     },
     "metadata": {},
     "output_type": "display_data"
    },
    {
     "data": {
      "application/vnd.jupyter.widget-view+json": {
       "model_id": "",
       "version_major": 2,
       "version_minor": 0
      },
      "text/plain": [
       "Validation: 0it [00:00, ?it/s]"
      ]
     },
     "metadata": {},
     "output_type": "display_data"
    },
    {
     "data": {
      "application/vnd.jupyter.widget-view+json": {
       "model_id": "",
       "version_major": 2,
       "version_minor": 0
      },
      "text/plain": [
       "Validation: 0it [00:00, ?it/s]"
      ]
     },
     "metadata": {},
     "output_type": "display_data"
    },
    {
     "data": {
      "application/vnd.jupyter.widget-view+json": {
       "model_id": "",
       "version_major": 2,
       "version_minor": 0
      },
      "text/plain": [
       "Validation: 0it [00:00, ?it/s]"
      ]
     },
     "metadata": {},
     "output_type": "display_data"
    },
    {
     "data": {
      "application/vnd.jupyter.widget-view+json": {
       "model_id": "",
       "version_major": 2,
       "version_minor": 0
      },
      "text/plain": [
       "Validation: 0it [00:00, ?it/s]"
      ]
     },
     "metadata": {},
     "output_type": "display_data"
    },
    {
     "data": {
      "application/vnd.jupyter.widget-view+json": {
       "model_id": "",
       "version_major": 2,
       "version_minor": 0
      },
      "text/plain": [
       "Validation: 0it [00:00, ?it/s]"
      ]
     },
     "metadata": {},
     "output_type": "display_data"
    },
    {
     "data": {
      "application/vnd.jupyter.widget-view+json": {
       "model_id": "",
       "version_major": 2,
       "version_minor": 0
      },
      "text/plain": [
       "Validation: 0it [00:00, ?it/s]"
      ]
     },
     "metadata": {},
     "output_type": "display_data"
    },
    {
     "data": {
      "application/vnd.jupyter.widget-view+json": {
       "model_id": "",
       "version_major": 2,
       "version_minor": 0
      },
      "text/plain": [
       "Validation: 0it [00:00, ?it/s]"
      ]
     },
     "metadata": {},
     "output_type": "display_data"
    },
    {
     "data": {
      "application/vnd.jupyter.widget-view+json": {
       "model_id": "",
       "version_major": 2,
       "version_minor": 0
      },
      "text/plain": [
       "Validation: 0it [00:00, ?it/s]"
      ]
     },
     "metadata": {},
     "output_type": "display_data"
    },
    {
     "data": {
      "application/vnd.jupyter.widget-view+json": {
       "model_id": "",
       "version_major": 2,
       "version_minor": 0
      },
      "text/plain": [
       "Validation: 0it [00:00, ?it/s]"
      ]
     },
     "metadata": {},
     "output_type": "display_data"
    },
    {
     "data": {
      "application/vnd.jupyter.widget-view+json": {
       "model_id": "",
       "version_major": 2,
       "version_minor": 0
      },
      "text/plain": [
       "Validation: 0it [00:00, ?it/s]"
      ]
     },
     "metadata": {},
     "output_type": "display_data"
    },
    {
     "data": {
      "application/vnd.jupyter.widget-view+json": {
       "model_id": "",
       "version_major": 2,
       "version_minor": 0
      },
      "text/plain": [
       "Validation: 0it [00:00, ?it/s]"
      ]
     },
     "metadata": {},
     "output_type": "display_data"
    },
    {
     "data": {
      "application/vnd.jupyter.widget-view+json": {
       "model_id": "",
       "version_major": 2,
       "version_minor": 0
      },
      "text/plain": [
       "Validation: 0it [00:00, ?it/s]"
      ]
     },
     "metadata": {},
     "output_type": "display_data"
    },
    {
     "data": {
      "application/vnd.jupyter.widget-view+json": {
       "model_id": "",
       "version_major": 2,
       "version_minor": 0
      },
      "text/plain": [
       "Validation: 0it [00:00, ?it/s]"
      ]
     },
     "metadata": {},
     "output_type": "display_data"
    },
    {
     "data": {
      "application/vnd.jupyter.widget-view+json": {
       "model_id": "",
       "version_major": 2,
       "version_minor": 0
      },
      "text/plain": [
       "Validation: 0it [00:00, ?it/s]"
      ]
     },
     "metadata": {},
     "output_type": "display_data"
    },
    {
     "data": {
      "application/vnd.jupyter.widget-view+json": {
       "model_id": "",
       "version_major": 2,
       "version_minor": 0
      },
      "text/plain": [
       "Validation: 0it [00:00, ?it/s]"
      ]
     },
     "metadata": {},
     "output_type": "display_data"
    },
    {
     "data": {
      "application/vnd.jupyter.widget-view+json": {
       "model_id": "",
       "version_major": 2,
       "version_minor": 0
      },
      "text/plain": [
       "Validation: 0it [00:00, ?it/s]"
      ]
     },
     "metadata": {},
     "output_type": "display_data"
    },
    {
     "data": {
      "application/vnd.jupyter.widget-view+json": {
       "model_id": "",
       "version_major": 2,
       "version_minor": 0
      },
      "text/plain": [
       "Validation: 0it [00:00, ?it/s]"
      ]
     },
     "metadata": {},
     "output_type": "display_data"
    },
    {
     "data": {
      "application/vnd.jupyter.widget-view+json": {
       "model_id": "",
       "version_major": 2,
       "version_minor": 0
      },
      "text/plain": [
       "Validation: 0it [00:00, ?it/s]"
      ]
     },
     "metadata": {},
     "output_type": "display_data"
    },
    {
     "data": {
      "application/vnd.jupyter.widget-view+json": {
       "model_id": "",
       "version_major": 2,
       "version_minor": 0
      },
      "text/plain": [
       "Validation: 0it [00:00, ?it/s]"
      ]
     },
     "metadata": {},
     "output_type": "display_data"
    },
    {
     "data": {
      "application/vnd.jupyter.widget-view+json": {
       "model_id": "",
       "version_major": 2,
       "version_minor": 0
      },
      "text/plain": [
       "Validation: 0it [00:00, ?it/s]"
      ]
     },
     "metadata": {},
     "output_type": "display_data"
    },
    {
     "data": {
      "application/vnd.jupyter.widget-view+json": {
       "model_id": "",
       "version_major": 2,
       "version_minor": 0
      },
      "text/plain": [
       "Validation: 0it [00:00, ?it/s]"
      ]
     },
     "metadata": {},
     "output_type": "display_data"
    },
    {
     "data": {
      "application/vnd.jupyter.widget-view+json": {
       "model_id": "",
       "version_major": 2,
       "version_minor": 0
      },
      "text/plain": [
       "Validation: 0it [00:00, ?it/s]"
      ]
     },
     "metadata": {},
     "output_type": "display_data"
    },
    {
     "data": {
      "application/vnd.jupyter.widget-view+json": {
       "model_id": "",
       "version_major": 2,
       "version_minor": 0
      },
      "text/plain": [
       "Validation: 0it [00:00, ?it/s]"
      ]
     },
     "metadata": {},
     "output_type": "display_data"
    },
    {
     "data": {
      "application/vnd.jupyter.widget-view+json": {
       "model_id": "",
       "version_major": 2,
       "version_minor": 0
      },
      "text/plain": [
       "Validation: 0it [00:00, ?it/s]"
      ]
     },
     "metadata": {},
     "output_type": "display_data"
    },
    {
     "data": {
      "application/vnd.jupyter.widget-view+json": {
       "model_id": "",
       "version_major": 2,
       "version_minor": 0
      },
      "text/plain": [
       "Validation: 0it [00:00, ?it/s]"
      ]
     },
     "metadata": {},
     "output_type": "display_data"
    },
    {
     "data": {
      "application/vnd.jupyter.widget-view+json": {
       "model_id": "",
       "version_major": 2,
       "version_minor": 0
      },
      "text/plain": [
       "Validation: 0it [00:00, ?it/s]"
      ]
     },
     "metadata": {},
     "output_type": "display_data"
    },
    {
     "data": {
      "application/vnd.jupyter.widget-view+json": {
       "model_id": "",
       "version_major": 2,
       "version_minor": 0
      },
      "text/plain": [
       "Validation: 0it [00:00, ?it/s]"
      ]
     },
     "metadata": {},
     "output_type": "display_data"
    },
    {
     "data": {
      "application/vnd.jupyter.widget-view+json": {
       "model_id": "",
       "version_major": 2,
       "version_minor": 0
      },
      "text/plain": [
       "Validation: 0it [00:00, ?it/s]"
      ]
     },
     "metadata": {},
     "output_type": "display_data"
    },
    {
     "data": {
      "application/vnd.jupyter.widget-view+json": {
       "model_id": "",
       "version_major": 2,
       "version_minor": 0
      },
      "text/plain": [
       "Validation: 0it [00:00, ?it/s]"
      ]
     },
     "metadata": {},
     "output_type": "display_data"
    },
    {
     "data": {
      "application/vnd.jupyter.widget-view+json": {
       "model_id": "",
       "version_major": 2,
       "version_minor": 0
      },
      "text/plain": [
       "Validation: 0it [00:00, ?it/s]"
      ]
     },
     "metadata": {},
     "output_type": "display_data"
    },
    {
     "data": {
      "application/vnd.jupyter.widget-view+json": {
       "model_id": "",
       "version_major": 2,
       "version_minor": 0
      },
      "text/plain": [
       "Validation: 0it [00:00, ?it/s]"
      ]
     },
     "metadata": {},
     "output_type": "display_data"
    },
    {
     "data": {
      "application/vnd.jupyter.widget-view+json": {
       "model_id": "",
       "version_major": 2,
       "version_minor": 0
      },
      "text/plain": [
       "Validation: 0it [00:00, ?it/s]"
      ]
     },
     "metadata": {},
     "output_type": "display_data"
    },
    {
     "data": {
      "application/vnd.jupyter.widget-view+json": {
       "model_id": "",
       "version_major": 2,
       "version_minor": 0
      },
      "text/plain": [
       "Validation: 0it [00:00, ?it/s]"
      ]
     },
     "metadata": {},
     "output_type": "display_data"
    },
    {
     "data": {
      "application/vnd.jupyter.widget-view+json": {
       "model_id": "",
       "version_major": 2,
       "version_minor": 0
      },
      "text/plain": [
       "Validation: 0it [00:00, ?it/s]"
      ]
     },
     "metadata": {},
     "output_type": "display_data"
    },
    {
     "data": {
      "application/vnd.jupyter.widget-view+json": {
       "model_id": "",
       "version_major": 2,
       "version_minor": 0
      },
      "text/plain": [
       "Validation: 0it [00:00, ?it/s]"
      ]
     },
     "metadata": {},
     "output_type": "display_data"
    },
    {
     "data": {
      "application/vnd.jupyter.widget-view+json": {
       "model_id": "",
       "version_major": 2,
       "version_minor": 0
      },
      "text/plain": [
       "Validation: 0it [00:00, ?it/s]"
      ]
     },
     "metadata": {},
     "output_type": "display_data"
    },
    {
     "data": {
      "application/vnd.jupyter.widget-view+json": {
       "model_id": "",
       "version_major": 2,
       "version_minor": 0
      },
      "text/plain": [
       "Validation: 0it [00:00, ?it/s]"
      ]
     },
     "metadata": {},
     "output_type": "display_data"
    },
    {
     "data": {
      "application/vnd.jupyter.widget-view+json": {
       "model_id": "",
       "version_major": 2,
       "version_minor": 0
      },
      "text/plain": [
       "Validation: 0it [00:00, ?it/s]"
      ]
     },
     "metadata": {},
     "output_type": "display_data"
    },
    {
     "data": {
      "application/vnd.jupyter.widget-view+json": {
       "model_id": "eee453d949ad4bd791ea04b5fcbfdf7a",
       "version_major": 2,
       "version_minor": 0
      },
      "text/plain": [
       "Validation: 0it [00:00, ?it/s]"
      ]
     },
     "metadata": {},
     "output_type": "display_data"
    },
    {
     "data": {
      "application/vnd.jupyter.widget-view+json": {
       "model_id": "4fc6b98e6a97487791188f22669936bf",
       "version_major": 2,
       "version_minor": 0
      },
      "text/plain": [
       "Validation: 0it [00:00, ?it/s]"
      ]
     },
     "metadata": {},
     "output_type": "display_data"
    },
    {
     "data": {
      "application/vnd.jupyter.widget-view+json": {
       "model_id": "efb2d78761be48789ef124657f8ee1f2",
       "version_major": 2,
       "version_minor": 0
      },
      "text/plain": [
       "Validation: 0it [00:00, ?it/s]"
      ]
     },
     "metadata": {},
     "output_type": "display_data"
    },
    {
     "name": "stderr",
     "output_type": "stream",
     "text": [
      "`Trainer.fit` stopped: `max_epochs=50` reached.\n"
     ]
    },
    {
     "name": "stdout",
     "output_type": "stream",
     "text": [
      "Epoch 9: 100%|██████████| 157/157 [00:06<00:00, 24.07it/s, loss=-0.951, v_num=252]\n"
     ]
    }
   ],
   "source": [
    "# Lightning callbacks\n",
    "checkpoint_callback = ModelCheckpoint(monitor=\"val_loss\", filename=\"{epoch:02d}-{val_loss:.2f}\", every_n_epochs=3, save_top_k=1)\n",
    "early_stop_callback = EarlyStopping(monitor='val_loss', patience=6)        \n",
    "\n",
    "trainer = pl.Trainer(max_epochs=max_epochs, accelerator='gpu', devices=1, callbacks=[checkpoint_callback,early_stop_callback])\n",
    "trainer.fit(model=model, train_dataloaders=train_loader, val_dataloaders=val_loader)"
   ]
  },
  {
   "cell_type": "code",
   "execution_count": 181,
   "id": "bcbb7ec6-0821-4216-9f4c-3c721b01a5c5",
   "metadata": {},
   "outputs": [],
   "source": [
    "model.to('cpu').eval();"
   ]
  },
  {
   "cell_type": "code",
   "execution_count": 182,
   "id": "26346859-d03c-4c86-965d-cc5bcda3dd9d",
   "metadata": {},
   "outputs": [],
   "source": [
    "from einops import rearrange\n",
    "\n",
    "def get(N):\n",
    "    xx = model.net.enc(rearrange(data_test[:, :N, :], \"batch n_set n_feat -> (batch n_set) n_feat\", n_set=N))\n",
    "    xx = rearrange(xx, \"(batch n_set) n_out -> batch n_set n_out\", n_set=N)\n",
    "    if not sum_aggregations:\n",
    "        xx = torch.cat([xx.mean(-2), (N * torch.ones(n_test)[:, None])], -1)\n",
    "    else:\n",
    "        xx = xx.sum(-2)\n",
    "    return model.net.dec(xx).to('cpu')"
   ]
  },
  {
   "cell_type": "code",
   "execution_count": 183,
   "id": "0c5f036d-f4f1-40d8-ac6d-5337449bedaa",
   "metadata": {},
   "outputs": [],
   "source": [
    "out = [get(N).detach().numpy() for N in range(1, model.seq_length + 1)]\n",
    "out = torch.Tensor(out)"
   ]
  },
  {
   "cell_type": "code",
   "execution_count": 184,
   "id": "ba8f79e7-0a77-420f-abe9-9f6079251f65",
   "metadata": {},
   "outputs": [],
   "source": [
    "out = rearrange(out, 'a b c -> b a c')"
   ]
  },
  {
   "cell_type": "code",
   "execution_count": 185,
   "id": "3ce93d98-0f84-4c6d-a3a0-3159c9d2e6c3",
   "metadata": {},
   "outputs": [],
   "source": [
    "seq_length_test = seq_length"
   ]
  },
  {
   "cell_type": "code",
   "execution_count": 188,
   "id": "f9dc637a-819f-4e84-b45b-a8471f77d813",
   "metadata": {},
   "outputs": [
    {
     "data": {
      "image/png": "[encoded data removed]",
      "text/plain": [
       "<matplotlib.legend.Legend at 0x2a42369a0>"
      ]
     },
     "execution_count": 188,
     "metadata": {},
     "output_type": "execute_result"
    },
    {
     "data": {
      "image/png": "[encoded data removed]",
      "text/plain": [
       "<Figure size 640x480 with 1 Axes>"
      ]
     },
     "metadata": {},
     "output_type": "display_data"
    }
   ],
   "source": [
    "for idx in range(dim):\n",
    "    \n",
    "    mu, log_sigma = torch.chunk(out, 2, -1)\n",
    "    sigma = log_sigma.exp()\n",
    "\n",
    "    sigma = sigma[..., idx]\n",
    "    mu = mu[..., idx]\n",
    "\n",
    "    plt.plot(np.arange(seq_length_test), np.median(sigma.detach().numpy(), axis=0), label=r\"$\\sigma_{}$\".format(idx + 1), color=colors[idx], alpha=0.33)\n",
    "    plt.fill_between(np.arange(seq_length_test), np.percentile(sigma.detach().numpy(), 16, axis=0), np.percentile(sigma.detach().numpy(), 84, axis=0), alpha=0.33, color=colors[idx])\n",
    "    plt.plot(np.arange(seq_length_test), np.array(np.sqrt(prior.Sigma_list))[1:, idx, idx], color=colors[idx], ls='--', lw=1.5)\n",
    "    \n",
    "plt.plot([0.], [0.], label=\"Ground truth\", color='k', ls='--', lw=1.5)\n",
    "\n",
    "    plt.plot(np.arange(seq_length_test), np.array(np.sqrt(prior.Sigma_list))[1:, idx, idx])\n",
    "\n",
    "plt.axvline(seq_length, ls='--', color='k', label=\"Train seq. length\")\n",
    "plt.xscale(\"log\")\n",
    "plt.yscale(\"log\")\n",
    "plt.xlim(0.7, 250)\n",
    "plt.ylim(0.04, 2)\n",
    "plt.xlabel(\"Sequence length\", fontsize=fontsize)\n",
    "plt.ylabel(r\"$\\sigma_i$\", fontsize=fontsize)\n",
    "plt.title(\"Predicted posterior width; Deep Set\", fontsize=fontsize, y=1.01)\n",
    "plt.legend(loc='lower left')\n",
    "\n",
    "plt.tight_layout()\n",
    "plt.savefig(\"../paper/figs/post_std_deepset.pdf\")"
   ]
  },
  {
   "cell_type": "code",
   "execution_count": 65,
   "id": "d292a595-72c8-46ae-bf68-13a36ee110ea",
   "metadata": {},
   "outputs": [
    {
     "data": {
      "image/png": "[encoded data removed]",
      "text/plain": [
       "<Figure size 432x345.6 with 2 Axes>"
      ]
     },
     "metadata": {
      "needs_background": "light"
     },
     "output_type": "display_data"
    }
   ],
   "source": [
    "from scipy.stats import norm\n",
    "import matplotlib.cm as cm\n",
    "from matplotlib.colors import Normalize\n",
    "\n",
    "plt.figure(figsize=(6, 4.8))\n",
    "\n",
    "mu, log_sigma = torch.chunk(out, 2, -1)\n",
    "sigma = log_sigma.exp()\n",
    "\n",
    "idx_sample = 2\n",
    "x_lin = np.linspace(np.min(mu_list_test[idx_sample, :]) - 0.5, np.max(mu_list_test[idx_sample, :]) + 0.5, 1000)\n",
    "\n",
    "cmaps = [cm.get_cmap('Reds'), cm.get_cmap('Greens'), cm.get_cmap('Blues')]\n",
    "\n",
    "for idx in range(dim):\n",
    "    for i_seq in np.arange(0, seq_length_test, 25):\n",
    "        plt.plot(x_lin, norm.pdf(x_lin, mu[idx_sample, i_seq, idx], sigma[idx_sample, i_seq, idx]), color=cmaps[idx](i_seq / seq_length_test))\n",
    "    plt.axvline(mu_list_test[idx_sample, idx], ls='--', color='k', label=\"Ground truth\" if idx == 0 else None, lw=1.5)\n",
    "\n",
    "cmap = cm.get_cmap('Greys')  # Using Greys colormap for the colorbar\n",
    "norm = Normalize(vmin=1, vmax=seq_length_test)  # Normalize the colormap from 1 to seq_length_test\n",
    "sm = plt.cm.ScalarMappable(cmap=cmap, norm=norm)\n",
    "sm.set_array([])\n",
    "\n",
    "plt.colorbar(sm)\n",
    "\n",
    "plt.xlabel(r\"$\\theta$\")\n",
    "plt.ylabel(r\"$p\\left(\\theta\\mid \\{x\\}\\right)$\")\n",
    "plt.xlim(np.min(mu_list_test[idx_sample, :]) - 0.5, np.max(mu_list_test[idx_sample, :]) + 0.5)\n",
    "plt.title(\"Predicted posterior evolution; Deep Set\", fontsize=fontsize, y=1.03)\n",
    "plt.legend(loc='upper right', fancybox=True, frameon=True, framealpha=0.89)\n",
    "plt.ylim(0, 10)\n",
    "\n",
    "\n",
    "plt.tight_layout()\n",
    "plt.savefig(\"../paper/figs/post_deepset.pdf\")"
   ]
  },
  {
   "attachments": {},
   "cell_type": "markdown",
   "id": "9aaee6d6",
   "metadata": {},
   "source": [
    "# Deep set own"
   ]
  },
  {
   "cell_type": "code",
   "execution_count": 25,
   "id": "8c60bfdb",
   "metadata": {},
   "outputs": [],
   "source": [
    "from models.utils import build_mlp\n",
    "import pytorch_lightning as pl\n",
    "import torch.distributions as dist\n",
    "\n",
    "class DeepSetOwn(pl.LightningModule):\n",
    "\n",
    "    def __init__(self, optimizer = torch.optim.AdamW, optimizer_kwargs = {\"weight_decay\": 1e-4}, lr = 1e-3,\n",
    "                 max_epochs = 10, input_dim = 1, embedding_dim = 256, hidden_dim = 128, layers = 4):\n",
    "        super().__init__()\n",
    "\n",
    "        self.max_epochs = max_epochs\n",
    "        self.optimizer = optimizer\n",
    "        self.lr = lr\n",
    "        self.optimizer_kwargs = optimizer_kwargs\n",
    "\n",
    "        self.enc = build_mlp(input_dim = input_dim, output_dim = embedding_dim, \n",
    "                                hidden_dim = hidden_dim, layers = layers)\n",
    "        self.dec = build_mlp(input_dim = embedding_dim, output_dim = 2,\n",
    "                                hidden_dim = hidden_dim, layers = layers)\n",
    "\n",
    "    def configure_optimizers(self):\n",
    "        optimizer = self.optimizer(self.parameters(), lr = self.lr, **self.optimizer_kwargs)\n",
    "        scheduler = torch.optim.lr_scheduler.CosineAnnealingLR(optimizer, T_max = self.max_epochs)\n",
    "        return {\"optimizer\": optimizer, \n",
    "                \"lr_scheduler\": {\n",
    "                \"scheduler\": scheduler,\n",
    "                \"interval\": \"epoch\",\n",
    "                \"monitor\": \"val_loss\",\n",
    "                \"frequency\": 1}\n",
    "                }\n",
    "\n",
    "    def training_step(self, batch, batch_idx):\n",
    "        x, y = batch\n",
    "        pred_mu, pred_sigma = self.forward(x)\n",
    "        loss = -dist.Normal(pred_mu, pred_sigma).log_prob(y).mean()\n",
    "        self.log(\"train_loss\", loss)\n",
    "        return loss\n",
    "\n",
    "    def validation_step(self, batch, batch_idx):\n",
    "        x, y = batch\n",
    "        pred_mu, pred_sigma = self.forward(x)\n",
    "        loss = -dist.Normal(pred_mu, pred_sigma).log_prob(y).mean()\n",
    "        self.log(\"val_loss\", loss)\n",
    "        return loss\n",
    "\n",
    "    def forward(self, x):\n",
    "        embedding = torch.nn.Softmax(dim = 1)(self.enc.forward(x).mean(-2))\n",
    "        pred = self.dec(embedding)\n",
    "        pred_mu, pred_log_sigma = torch.chunk(pred, 2, -1)\n",
    "        pred_sigma = pred_log_sigma.exp()\n",
    "        return pred_mu, pred_sigma\n"
   ]
  },
  {
   "cell_type": "code",
   "execution_count": 38,
   "id": "15bd5e27",
   "metadata": {},
   "outputs": [],
   "source": [
    "max_epochs = 10\n",
    "model_dso = DeepSetOwn(max_epochs = max_epochs)"
   ]
  },
  {
   "cell_type": "code",
   "execution_count": 39,
   "id": "d304db4c",
   "metadata": {},
   "outputs": [
    {
     "name": "stderr",
     "output_type": "stream",
     "text": [
      "GPU available: True (mps), used: True\n",
      "TPU available: False, using: 0 TPU cores\n",
      "IPU available: False, using: 0 IPUs\n",
      "HPU available: False, using: 0 HPUs\n",
      "\n",
      "  | Name | Type       | Params\n",
      "------------------------------------\n",
      "0 | enc  | Sequential | 99.3 K\n",
      "1 | dec  | Sequential | 99.2 K\n",
      "------------------------------------\n",
      "198 K     Trainable params\n",
      "0         Non-trainable params\n",
      "198 K     Total params\n",
      "0.794     Total estimated model params size (MB)\n"
     ]
    },
    {
     "name": "stdout",
     "output_type": "stream",
     "text": [
      "Epoch 9: 100%|██████████| 157/157 [00:06<00:00, 25.68it/s, loss=0.148, v_num=248]"
     ]
    },
    {
     "name": "stderr",
     "output_type": "stream",
     "text": [
      "`Trainer.fit` stopped: `max_epochs=10` reached.\n"
     ]
    },
    {
     "name": "stdout",
     "output_type": "stream",
     "text": [
      "Epoch 9: 100%|██████████| 157/157 [00:06<00:00, 25.56it/s, loss=0.148, v_num=248]\n"
     ]
    }
   ],
   "source": [
    "early_stop_callback = EarlyStopping(monitor = 'val_loss', patience = 6)\n",
    "checkpoint_callback = ModelCheckpoint(monitor = \"val_loss\", filename = \"{epoch:02d}-{val_loss:.2f}\", \n",
    "                                        every_n_epochs = 1, save_top_k = 1)\n",
    "trainer = pl.Trainer(max_epochs = max_epochs, accelerator = 'mps', devices = 1, callbacks = [early_stop_callback, checkpoint_callback])\n",
    "trainer.fit(model = model_dso, train_dataloaders = train_loader, val_dataloaders = val_loader)"
   ]
  },
  {
   "cell_type": "code",
   "execution_count": 41,
   "id": "9f344902",
   "metadata": {},
   "outputs": [],
   "source": [
    "mu, sigma = model_dso.forward(data)"
   ]
  },
  {
   "cell_type": "code",
   "execution_count": 45,
   "id": "9d059a95",
   "metadata": {},
   "outputs": [
    {
     "data": {
      "text/plain": [
       "0.2873798"
      ]
     },
     "execution_count": 45,
     "metadata": {},
     "output_type": "execute_result"
    }
   ],
   "source": [
    "np.median(sigma.detach().numpy())"
   ]
  },
  {
   "attachments": {},
   "cell_type": "markdown",
   "id": "066f067b-2ef3-4871-b2d5-a560ad8e8891",
   "metadata": {},
   "source": [
    "### LSTM"
   ]
  },
  {
   "cell_type": "code",
   "execution_count": 69,
   "id": "5f5054d6-e5bb-4b6b-a33b-3e24c7a18ac0",
   "metadata": {},
   "outputs": [],
   "source": [
    "# from models.sequential import LSTMRandomMaskingPL\n",
    "# from pytorch_lightning.callbacks import TQDMProgressBar"
   ]
  },
  {
   "cell_type": "code",
   "execution_count": 70,
   "id": "0a82ccc3-1b03-480b-be0e-e3f206159d4d",
   "metadata": {},
   "outputs": [],
   "source": [
    "# max_epochs = 50\n",
    "# model = LSTMRandomMaskingPL(n_in=int(dim * n), n_out=int(2 * dim), max_epochs=max_epochs, seq_length=seq_length)"
   ]
  },
  {
   "cell_type": "code",
   "execution_count": 71,
   "id": "0889875f-25ab-493e-ba6d-e9bf75f0007c",
   "metadata": {},
   "outputs": [],
   "source": [
    "# # Lightning callbacks\n",
    "# checkpoint_callback = ModelCheckpoint(monitor=\"val_loss\", filename=\"{epoch:02d}-{val_loss:.2f}\", every_n_epochs=3, save_top_k=1)\n",
    "# early_stop_callback = EarlyStopping(monitor='val_loss', patience=6)  \n",
    "# progress = TQDMProgressBar()\n",
    "\n",
    "# trainer = pl.Trainer(max_epochs=max_epochs, accelerator='gpu', devices=1, callbacks=[checkpoint_callback,early_stop_callback, progress])\n",
    "# trainer.fit(model=model, train_dataloaders=train_loader, val_dataloaders=val_loader)"
   ]
  },
  {
   "cell_type": "code",
   "execution_count": 72,
   "id": "cdb2c947-6671-47dc-9544-df23245f42bc",
   "metadata": {},
   "outputs": [],
   "source": [
    "# # model.load_from_checkpoint(checkpoint_callback.best_model_path, max_epochs=max_epochs);\n",
    "# model.eval();\n",
    "# model = model.to('cpu')"
   ]
  },
  {
   "cell_type": "code",
   "execution_count": 73,
   "id": "9b7e5206-832b-45b8-8c8f-cd96c62b488f",
   "metadata": {},
   "outputs": [],
   "source": [
    "# out = model.net(data_test[:])\n",
    "# mu, log_sigma = torch.chunk(out, 2, -1)"
   ]
  },
  {
   "cell_type": "code",
   "execution_count": 74,
   "id": "5915774d-a9eb-4db6-adc2-b49d38243872",
   "metadata": {},
   "outputs": [],
   "source": [
    "# seq_length_test = seq_length"
   ]
  },
  {
   "cell_type": "code",
   "execution_count": 75,
   "id": "eb0427f3-ed72-4c1b-ae84-327811740744",
   "metadata": {},
   "outputs": [
    {
     "data": {
      "text/plain": [
       "<matplotlib.legend.Legend at 0x29d79b130>"
      ]
     },
     "execution_count": 221,
     "metadata": {},
     "output_type": "execute_result"
    },
    {
     "data": {
      "image/png": "[encoded data removed]",
      "text/plain": [
       "<Figure size 640x480 with 1 Axes>"
      ]
     },
     "metadata": {},
     "output_type": "display_data"
    }
   ],
   "source": [
    "# colors = ['firebrick', 'forestgreen', 'cornflowerblue']\n",
    "\n",
    "# plt.figure(figsize=(6, 4.8))\n",
    "\n",
    "# for idx in range(dim):\n",
    "    \n",
    "#     mu, log_sigma = torch.chunk(out, 2, -1)\n",
    "#     sigma = log_sigma.exp()\n",
    "\n",
    "#     sigma = sigma[..., idx]\n",
    "#     mu = mu[..., idx]\n",
    "\n",
    "#     plt.plot(np.arange(seq_length_test), np.median(sigma.detach().numpy(), axis=0), label=r\"$\\sigma_{}$\".format(idx + 1), color=colors[idx])\n",
    "#     plt.fill_between(np.arange(seq_length_test), np.percentile(sigma.detach().numpy(), 16, axis=0), np.percentile(sigma.detach().numpy(), 84, axis=0), alpha=0.33, color=colors[idx])\n",
    "#     plt.plot(np.arange(seq_length_test), np.array(np.sqrt(prior.Sigma_list))[1:, idx, idx], color=colors[idx], ls='--')\n",
    "\n",
    "# plt.text(190, 0.5, \"Max. training cardinality\", rotation=90, horizontalalignment='right', verticalalignment='center')\n",
    "# plt.axvline(seq_length, ls=':', color='k', label=\"Groud truth\")\n",
    "# plt.xscale(\"log\")\n",
    "# plt.yscale(\"log\")\n",
    "# plt.xlim(0.7, 250)\n",
    "# plt.ylim(0.04, 5)\n",
    "# plt.xlabel(\"Sequence length\")\n",
    "# plt.ylabel(r\"$\\sigma_i$\")\n",
    "# plt.title(\"Predicted posterior width; LSTM\")\n",
    "# plt.legend(loc='lower left')\n",
    "\n",
    "# plt.tight_layout()\n",
    "# plt.savefig(\"../paper/figs/post_std_lstm.pdf\")"
   ]
  },
  {
   "attachments": {},
   "cell_type": "markdown",
   "id": "001e458a-e0bd-4652-a8b6-b8b366ad1a63",
   "metadata": {},
   "source": [
    "## Transformer"
   ]
  },
  {
   "cell_type": "code",
   "execution_count": 51,
   "id": "cc03c381-ebcb-46d4-af6b-b3bc455e1896",
   "metadata": {},
   "outputs": [],
   "source": [
    "from models.transformer import TransformerUpdateNetPL"
   ]
  },
  {
   "cell_type": "code",
   "execution_count": 52,
   "id": "4bae5682-540c-4986-b062-c325ccc46937",
   "metadata": {},
   "outputs": [],
   "source": [
    "max_epochs = 50\n",
    "model = TransformerUpdateNetPL(n_in=int(dim * n), n_out=int(2 * dim), max_epochs=max_epochs, seq_length=seq_length)"
   ]
  },
  {
   "cell_type": "code",
   "execution_count": 53,
   "id": "67c2bc9f-5cb8-4892-9853-f85cb8eafd3e",
   "metadata": {},
   "outputs": [
    {
     "name": "stderr",
     "output_type": "stream",
     "text": [
      "GPU available: True (cuda), used: True\n",
      "TPU available: False, using: 0 TPU cores\n",
      "IPU available: False, using: 0 IPUs\n",
      "HPU available: False, using: 0 HPUs\n",
      "LOCAL_RANK: 0 - CUDA_VISIBLE_DEVICES: [0]\n",
      "\n",
      "  | Name | Type                 | Params\n",
      "----------------------------------------------\n",
      "0 | net  | TransformerUpdateNet | 6.3 M \n",
      "----------------------------------------------\n",
      "6.3 M     Trainable params\n",
      "0         Non-trainable params\n",
      "6.3 M     Total params\n",
      "25.304    Total estimated model params size (MB)\n"
     ]
    },
    {
     "data": {
      "application/vnd.jupyter.widget-view+json": {
       "model_id": "",
       "version_major": 2,
       "version_minor": 0
      },
      "text/plain": [
       "Sanity Checking: 0it [00:00, ?it/s]"
      ]
     },
     "metadata": {},
     "output_type": "display_data"
    },
    {
     "data": {
      "application/vnd.jupyter.widget-view+json": {
       "model_id": "e30c1136a9084c5f9491c29fa2f614e2",
       "version_major": 2,
       "version_minor": 0
      },
      "text/plain": [
       "Training: 0it [00:00, ?it/s]"
      ]
     },
     "metadata": {},
     "output_type": "display_data"
    },
    {
     "data": {
      "application/vnd.jupyter.widget-view+json": {
       "model_id": "",
       "version_major": 2,
       "version_minor": 0
      },
      "text/plain": [
       "Validation: 0it [00:00, ?it/s]"
      ]
     },
     "metadata": {},
     "output_type": "display_data"
    },
    {
     "data": {
      "application/vnd.jupyter.widget-view+json": {
       "model_id": "",
       "version_major": 2,
       "version_minor": 0
      },
      "text/plain": [
       "Validation: 0it [00:00, ?it/s]"
      ]
     },
     "metadata": {},
     "output_type": "display_data"
    },
    {
     "data": {
      "application/vnd.jupyter.widget-view+json": {
       "model_id": "",
       "version_major": 2,
       "version_minor": 0
      },
      "text/plain": [
       "Validation: 0it [00:00, ?it/s]"
      ]
     },
     "metadata": {},
     "output_type": "display_data"
    },
    {
     "data": {
      "application/vnd.jupyter.widget-view+json": {
       "model_id": "",
       "version_major": 2,
       "version_minor": 0
      },
      "text/plain": [
       "Validation: 0it [00:00, ?it/s]"
      ]
     },
     "metadata": {},
     "output_type": "display_data"
    },
    {
     "data": {
      "application/vnd.jupyter.widget-view+json": {
       "model_id": "",
       "version_major": 2,
       "version_minor": 0
      },
      "text/plain": [
       "Validation: 0it [00:00, ?it/s]"
      ]
     },
     "metadata": {},
     "output_type": "display_data"
    },
    {
     "data": {
      "application/vnd.jupyter.widget-view+json": {
       "model_id": "",
       "version_major": 2,
       "version_minor": 0
      },
      "text/plain": [
       "Validation: 0it [00:00, ?it/s]"
      ]
     },
     "metadata": {},
     "output_type": "display_data"
    },
    {
     "data": {
      "application/vnd.jupyter.widget-view+json": {
       "model_id": "",
       "version_major": 2,
       "version_minor": 0
      },
      "text/plain": [
       "Validation: 0it [00:00, ?it/s]"
      ]
     },
     "metadata": {},
     "output_type": "display_data"
    },
    {
     "data": {
      "application/vnd.jupyter.widget-view+json": {
       "model_id": "",
       "version_major": 2,
       "version_minor": 0
      },
      "text/plain": [
       "Validation: 0it [00:00, ?it/s]"
      ]
     },
     "metadata": {},
     "output_type": "display_data"
    },
    {
     "data": {
      "application/vnd.jupyter.widget-view+json": {
       "model_id": "",
       "version_major": 2,
       "version_minor": 0
      },
      "text/plain": [
       "Validation: 0it [00:00, ?it/s]"
      ]
     },
     "metadata": {},
     "output_type": "display_data"
    },
    {
     "data": {
      "application/vnd.jupyter.widget-view+json": {
       "model_id": "",
       "version_major": 2,
       "version_minor": 0
      },
      "text/plain": [
       "Validation: 0it [00:00, ?it/s]"
      ]
     },
     "metadata": {},
     "output_type": "display_data"
    },
    {
     "data": {
      "application/vnd.jupyter.widget-view+json": {
       "model_id": "",
       "version_major": 2,
       "version_minor": 0
      },
      "text/plain": [
       "Validation: 0it [00:00, ?it/s]"
      ]
     },
     "metadata": {},
     "output_type": "display_data"
    },
    {
     "data": {
      "application/vnd.jupyter.widget-view+json": {
       "model_id": "",
       "version_major": 2,
       "version_minor": 0
      },
      "text/plain": [
       "Validation: 0it [00:00, ?it/s]"
      ]
     },
     "metadata": {},
     "output_type": "display_data"
    },
    {
     "data": {
      "application/vnd.jupyter.widget-view+json": {
       "model_id": "",
       "version_major": 2,
       "version_minor": 0
      },
      "text/plain": [
       "Validation: 0it [00:00, ?it/s]"
      ]
     },
     "metadata": {},
     "output_type": "display_data"
    },
    {
     "data": {
      "application/vnd.jupyter.widget-view+json": {
       "model_id": "",
       "version_major": 2,
       "version_minor": 0
      },
      "text/plain": [
       "Validation: 0it [00:00, ?it/s]"
      ]
     },
     "metadata": {},
     "output_type": "display_data"
    },
    {
     "data": {
      "application/vnd.jupyter.widget-view+json": {
       "model_id": "",
       "version_major": 2,
       "version_minor": 0
      },
      "text/plain": [
       "Validation: 0it [00:00, ?it/s]"
      ]
     },
     "metadata": {},
     "output_type": "display_data"
    },
    {
     "data": {
      "application/vnd.jupyter.widget-view+json": {
       "model_id": "",
       "version_major": 2,
       "version_minor": 0
      },
      "text/plain": [
       "Validation: 0it [00:00, ?it/s]"
      ]
     },
     "metadata": {},
     "output_type": "display_data"
    },
    {
     "data": {
      "application/vnd.jupyter.widget-view+json": {
       "model_id": "",
       "version_major": 2,
       "version_minor": 0
      },
      "text/plain": [
       "Validation: 0it [00:00, ?it/s]"
      ]
     },
     "metadata": {},
     "output_type": "display_data"
    },
    {
     "data": {
      "application/vnd.jupyter.widget-view+json": {
       "model_id": "",
       "version_major": 2,
       "version_minor": 0
      },
      "text/plain": [
       "Validation: 0it [00:00, ?it/s]"
      ]
     },
     "metadata": {},
     "output_type": "display_data"
    },
    {
     "data": {
      "application/vnd.jupyter.widget-view+json": {
       "model_id": "",
       "version_major": 2,
       "version_minor": 0
      },
      "text/plain": [
       "Validation: 0it [00:00, ?it/s]"
      ]
     },
     "metadata": {},
     "output_type": "display_data"
    },
    {
     "data": {
      "application/vnd.jupyter.widget-view+json": {
       "model_id": "",
       "version_major": 2,
       "version_minor": 0
      },
      "text/plain": [
       "Validation: 0it [00:00, ?it/s]"
      ]
     },
     "metadata": {},
     "output_type": "display_data"
    },
    {
     "data": {
      "application/vnd.jupyter.widget-view+json": {
       "model_id": "",
       "version_major": 2,
       "version_minor": 0
      },
      "text/plain": [
       "Validation: 0it [00:00, ?it/s]"
      ]
     },
     "metadata": {},
     "output_type": "display_data"
    }
   ],
   "source": [
    "# Lightning callbacks\n",
    "checkpoint_callback = ModelCheckpoint(monitor=\"val_loss\", filename=\"{epoch:02d}-{val_loss:.2f}\", every_n_epochs=3, save_top_k=1)\n",
    "early_stop_callback = EarlyStopping(monitor='val_loss', patience=6)        \n",
    "\n",
    "trainer = pl.Trainer(max_epochs=max_epochs, accelerator='gpu', devices=1, callbacks=[checkpoint_callback,early_stop_callback])\n",
    "trainer.fit(model=model, train_dataloaders=train_loader, val_dataloaders=val_loader)"
   ]
  },
  {
   "cell_type": "code",
   "execution_count": 54,
   "id": "ae119003-2f54-4c9b-8041-8669cd53a788",
   "metadata": {},
   "outputs": [],
   "source": [
    "# model.load_from_checkpoint(checkpoint_callback.best_model_path, n_in=int(dim * n), n_out=int(2 * dim), max_epochs=max_epochs, seq_length=seq_length);\n",
    "model.eval();"
   ]
  },
  {
   "cell_type": "code",
   "execution_count": 55,
   "id": "c76f6549-b7f7-4453-906f-5feed2052d5c",
   "metadata": {},
   "outputs": [],
   "source": [
    "out = model.to('cuda').net(data_test[:].to('cuda')).to('cpu')\n",
    "mu, log_sigma = torch.chunk(out, 2, -1)"
   ]
  },
  {
   "cell_type": "code",
   "execution_count": 56,
   "id": "6e2fb309-021f-421e-bfd5-228d167671b8",
   "metadata": {},
   "outputs": [],
   "source": [
    "seq_length_test = seq_length"
   ]
  },
  {
   "cell_type": "code",
   "execution_count": 57,
   "id": "0da7c851-5ae1-466a-ade2-f9ccd578256c",
   "metadata": {},
   "outputs": [
    {
     "data": {
      "image/png": "[encoded data removed]",
      "text/plain": [
       "<Figure size 432x345.6 with 1 Axes>"
      ]
     },
     "metadata": {
      "needs_background": "light"
     },
     "output_type": "display_data"
    }
   ],
   "source": [
    "colors = ['firebrick', 'forestgreen', 'cornflowerblue']\n",
    "\n",
    "plt.figure(figsize=(6, 4.8))\n",
    "fontsize = 18\n",
    "for idx in range(dim):\n",
    "    \n",
    "    mu, log_sigma = torch.chunk(out, 2, -1)\n",
    "    sigma = log_sigma.exp()\n",
    "\n",
    "    sigma = sigma[..., idx]\n",
    "    mu = mu[..., idx]\n",
    "\n",
    "    plt.plot(np.arange(seq_length_test), np.median(sigma.detach().numpy(), axis=0), label=r\"$\\sigma_{}$\".format(idx + 1), color=colors[idx], alpha=0.33)\n",
    "    plt.fill_between(np.arange(seq_length_test), np.percentile(sigma.detach().numpy(), 16, axis=0), np.percentile(sigma.detach().numpy(), 84, axis=0), alpha=0.33, color=colors[idx])\n",
    "    plt.plot(np.arange(seq_length_test), np.array(np.sqrt(prior.Sigma_list))[1:, idx, idx], color=colors[idx], ls='--', lw=1.5)\n",
    "    \n",
    "plt.plot([0.], [0.], label=\"Ground truth\", color='k', ls='--', lw=1.5)\n",
    "\n",
    "plt.text(190, 0.5, \"Max. training cardinality\", rotation=90, horizontalalignment='right', verticalalignment='center', fontsize=13)\n",
    "plt.axvline(seq_length, ls=':', color='k')\n",
    "plt.xscale(\"log\")\n",
    "plt.yscale(\"log\")\n",
    "plt.xlim(0.7, 250)\n",
    "plt.ylim(0.04, 2)\n",
    "plt.xlabel(\"Sequence length\", fontsize=fontsize)\n",
    "plt.ylabel(r\"$\\sigma_i$\", fontsize=fontsize)\n",
    "plt.title(\"Predicted posterior width; Transformer\", fontsize=fontsize, y=1.01)\n",
    "plt.legend(loc='lower left')\n",
    "\n",
    "plt.tight_layout()\n",
    "# plt.savefig(\"../paper/figs/post_std_transformer.pdf\")"
   ]
  },
  {
   "cell_type": "code",
   "execution_count": null,
   "id": "53261e44-d8a1-4c6b-9f5c-da473d8c0918",
   "metadata": {},
   "outputs": [],
   "source": []
  }
 ],
 "metadata": {
  "kernelspec": {
   "display_name": "Python 3 (ipykernel)",
   "language": "python",
   "name": "python3"
  },
  "language_info": {
   "codemirror_mode": {
    "name": "ipython",
    "version": 3
   },
   "file_extension": ".py",
   "mimetype": "text/x-python",
   "name": "python",
   "nbconvert_exporter": "python",
   "pygments_lexer": "ipython3",
   "version": "3.9.13"
  },
  "vscode": {
   "interpreter": {
    "hash": "5a325371ee47cd2db67c59416e547ef31e4d442734b91c29d6adc5acbdc2dc08"
   }
  }
 },
 "nbformat": 4,
 "nbformat_minor": 5
}
